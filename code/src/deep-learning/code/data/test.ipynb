{
 "cells": [
  {
   "cell_type": "code",
   "execution_count": 4,
   "metadata": {},
   "outputs": [
    {
     "name": "stdout",
     "output_type": "stream",
     "text": [
      "Total encoded IDs: 9471\n",
      "Mapped to real IDs: 9471\n"
     ]
    },
    {
     "name": "stderr",
     "output_type": "stream",
     "text": [
      "/var/folders/ns/k1zy5n_50mn6tnzl7mwx4g440000gn/T/ipykernel_27252/2109935549.py:40: DtypeWarning: Columns (6) have mixed types. Specify dtype option on import or set low_memory=False.\n",
      "  meta_df = pd.read_csv(metadata_path)\n"
     ]
    },
    {
     "name": "stdout",
     "output_type": "stream",
     "text": [
      "Found 9471 items in metadata\n",
      "Saved metadata for 9471 items to /Users/shayan/Desktop/Echomind/code/src/deep-learning/data/amazon-electronics/filtered_item_metadata.csv\n"
     ]
    }
   ],
   "source": [
    "import json\n",
    "import pandas as pd\n",
    "\n",
    "# Step 1: Read all encoded item IDs from train/validation/test files\n",
    "def read_encoded_item_ids(files):\n",
    "    item_ids = set()\n",
    "    for file in files:\n",
    "        with open(file, 'r') as f:\n",
    "            for line in f:\n",
    "                parts = line.strip().split()\n",
    "                item_ids.update(map(int, parts[1:]))  # skip index, keep itemIDs\n",
    "    return item_ids\n",
    "\n",
    "# Step 2: Load encoded ID to real ID mapping\n",
    "def load_item_num2id(path):\n",
    "    with open(path, 'r') as f:\n",
    "        return json.load(f)\n",
    "\n",
    "# Step 3: Filter metadata for relevant items\n",
    "def filter_metadata(real_item_ids, metadata_path):\n",
    "    meta_df = pd.read_csv(metadata_path)\n",
    "    meta_df = meta_df[meta_df['parent_asin'].isin(real_item_ids)]\n",
    "    return meta_df\n",
    "\n",
    "# Step 4: Main pipeline\n",
    "def create_item_metadata_csv(train_path, val_path, test_path, item_map_path, metadata_path, output_path):\n",
    "    # Step 1: Read encoded item IDs from all 3 files\n",
    "    encoded_ids = read_encoded_item_ids([train_path, val_path, test_path])\n",
    "\n",
    "    # Step 2: Load the list of real item IDs (it's a list, not a dict)\n",
    "    item_num2id = json.load(open(item_map_path))  # list, index = encoded ID\n",
    "\n",
    "    # Step 3: Map encoded IDs to real IDs using index lookup\n",
    "    real_ids = [item_num2id[i] for i in encoded_ids if i < len(item_num2id)]\n",
    "\n",
    "    print(f\"Total encoded IDs: {len(encoded_ids)}\")\n",
    "    print(f\"Mapped to real IDs: {len(real_ids)}\")\n",
    "\n",
    "    # Step 4: Load metadata and filter based on real IDs\n",
    "    meta_df = pd.read_csv(metadata_path)\n",
    "    meta_df['parent_asin'] = meta_df['parent_asin'].astype(str).str.strip()\n",
    "    real_ids = set(real_ids)\n",
    "    filtered_meta = meta_df[meta_df['parent_asin'].isin(real_ids)]\n",
    "\n",
    "    print(f\"Found {len(filtered_meta)} items in metadata\")\n",
    "\n",
    "    # Step 5: Select columns you want\n",
    "    selected_columns = ['parent_asin', 'title', 'main_category', 'price', 'average_rating', 'rating_number']\n",
    "    final_df = filtered_meta[selected_columns]\n",
    "\n",
    "    # Step 6: Save the final CSV\n",
    "    final_df.to_csv(output_path, index=False)\n",
    "    print(f\"Saved metadata for {len(final_df)} items to {output_path}\")\n",
    "\n",
    "# --- Run ---\n",
    "create_item_metadata_csv(\n",
    "    train_path='/Users/shayan/Desktop/Echomind/code/src/deep-learning/data/amazon-electronics/train.txt',\n",
    "    val_path='/Users/shayan/Desktop/Echomind/code/src/deep-learning/data/amazon-electronics/validation.txt',\n",
    "    test_path='/Users/shayan/Desktop/Echomind/code/src/deep-learning/data/amazon-electronics/test.txt',\n",
    "    item_map_path='/Users/shayan/Desktop/Echomind/code/src/deep-learning/data/amazon-electronics/item_num2id.json',\n",
    "    metadata_path='/Users/shayan/Desktop/Echomind/code/src/deep-learning/data/amazon-electronics/meta_Electronics.csv',\n",
    "    output_path='/Users/shayan/Desktop/Echomind/code/src/deep-learning/data/amazon-electronics/filtered_item_metadata.csv'\n",
    ")"
   ]
  },
  {
   "cell_type": "code",
   "execution_count": null,
   "metadata": {},
   "outputs": [],
   "source": [
    "from openai import OpenAI\n",
    "\n",
    "responses = []\n",
    "\n",
    "client = OpenAI(\n",
    "  base_url=\"https://openrouter.ai/api/v1\",\n",
    "  api_key=\"<OPENROUTER_API_KEY>\",\n",
    ")\n",
    "\n",
    "completion = client.chat.completions.create(\n",
    "  extra_headers={\n",
    "    \"HTTP-Referer\": \"<YOUR_SITE_URL>\", # Optional. Site URL for rankings on openrouter.ai.\n",
    "    \"X-Title\": \"<YOUR_SITE_NAME>\", # Optional. Site title for rankings on openrouter.ai.\n",
    "  },\n",
    "  extra_body={},\n",
    "  model=\"deepseek/deepseek-r1:free\",\n",
    "  messages=[\n",
    "    {\n",
    "      \"role\": \"user\",\n",
    "      \"content\": \"Here are few items {responses}, give me \"\n",
    "    }\n",
    "  ]\n",
    ")\n",
    "print(completion.choices[0].message.content)"
   ]
  }
 ],
 "metadata": {
  "kernelspec": {
   "display_name": "RecSys",
   "language": "python",
   "name": "python3"
  },
  "language_info": {
   "codemirror_mode": {
    "name": "ipython",
    "version": 3
   },
   "file_extension": ".py",
   "mimetype": "text/x-python",
   "name": "python",
   "nbconvert_exporter": "python",
   "pygments_lexer": "ipython3",
   "version": "3.9.21"
  }
 },
 "nbformat": 4,
 "nbformat_minor": 2
}
